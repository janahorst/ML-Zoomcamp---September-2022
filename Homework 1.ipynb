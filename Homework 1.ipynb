{
 "cells": [
  {
   "cell_type": "markdown",
   "id": "07a974ab",
   "metadata": {},
   "source": [
    "# ML Zoomcamp - Homework 1"
   ]
  },
  {
   "cell_type": "markdown",
   "id": "fce2cf47",
   "metadata": {},
   "source": [
    "##### Homework-Link: https://github.com/alexeygrigorev/mlbookcamp-code/blob/master/course-zoomcamp/cohorts/2022/01-intro/homework.md"
   ]
  },
  {
   "cell_type": "code",
   "execution_count": 22,
   "id": "8cd28090",
   "metadata": {},
   "outputs": [],
   "source": [
    "import pandas as pd\n",
    "import numpy as np\n",
    "\n",
    "import seaborn as sns\n",
    "from matplotlib import pyplot as plt\n",
    "%matplotlib inline"
   ]
  },
  {
   "cell_type": "markdown",
   "id": "fc1e248b",
   "metadata": {},
   "source": [
    "# Question 1 -  Version of pandas"
   ]
  },
  {
   "cell_type": "code",
   "execution_count": 2,
   "id": "5f3eca38",
   "metadata": {},
   "outputs": [
    {
     "data": {
      "text/plain": [
       "'1.21.5'"
      ]
     },
     "execution_count": 2,
     "metadata": {},
     "output_type": "execute_result"
    }
   ],
   "source": [
    "np.__version__"
   ]
  },
  {
   "cell_type": "code",
   "execution_count": 3,
   "id": "153a54dc",
   "metadata": {},
   "outputs": [],
   "source": [
    "df = pd.read_csv(\"data_homework1.csv\")"
   ]
  },
  {
   "cell_type": "code",
   "execution_count": 59,
   "id": "1ff130ad",
   "metadata": {
    "scrolled": true
   },
   "outputs": [
    {
     "data": {
      "text/html": [
       "<div>\n",
       "<style scoped>\n",
       "    .dataframe tbody tr th:only-of-type {\n",
       "        vertical-align: middle;\n",
       "    }\n",
       "\n",
       "    .dataframe tbody tr th {\n",
       "        vertical-align: top;\n",
       "    }\n",
       "\n",
       "    .dataframe thead th {\n",
       "        text-align: right;\n",
       "    }\n",
       "</style>\n",
       "<table border=\"1\" class=\"dataframe\">\n",
       "  <thead>\n",
       "    <tr style=\"text-align: right;\">\n",
       "      <th></th>\n",
       "      <th>Make</th>\n",
       "      <th>Model</th>\n",
       "      <th>Year</th>\n",
       "      <th>Engine Fuel Type</th>\n",
       "      <th>Engine HP</th>\n",
       "      <th>Engine Cylinders</th>\n",
       "      <th>Transmission Type</th>\n",
       "      <th>Driven_Wheels</th>\n",
       "      <th>Number of Doors</th>\n",
       "      <th>Market Category</th>\n",
       "      <th>Vehicle Size</th>\n",
       "      <th>Vehicle Style</th>\n",
       "      <th>highway MPG</th>\n",
       "      <th>city mpg</th>\n",
       "      <th>Popularity</th>\n",
       "      <th>MSRP</th>\n",
       "    </tr>\n",
       "  </thead>\n",
       "  <tbody>\n",
       "    <tr>\n",
       "      <th>0</th>\n",
       "      <td>BMW</td>\n",
       "      <td>1 Series M</td>\n",
       "      <td>2011</td>\n",
       "      <td>premium unleaded (required)</td>\n",
       "      <td>335.0</td>\n",
       "      <td>6.0</td>\n",
       "      <td>MANUAL</td>\n",
       "      <td>rear wheel drive</td>\n",
       "      <td>2.0</td>\n",
       "      <td>Factory Tuner,Luxury,High-Performance</td>\n",
       "      <td>Compact</td>\n",
       "      <td>Coupe</td>\n",
       "      <td>26</td>\n",
       "      <td>19</td>\n",
       "      <td>3916</td>\n",
       "      <td>46135</td>\n",
       "    </tr>\n",
       "    <tr>\n",
       "      <th>1</th>\n",
       "      <td>BMW</td>\n",
       "      <td>1 Series</td>\n",
       "      <td>2011</td>\n",
       "      <td>premium unleaded (required)</td>\n",
       "      <td>300.0</td>\n",
       "      <td>6.0</td>\n",
       "      <td>MANUAL</td>\n",
       "      <td>rear wheel drive</td>\n",
       "      <td>2.0</td>\n",
       "      <td>Luxury,Performance</td>\n",
       "      <td>Compact</td>\n",
       "      <td>Convertible</td>\n",
       "      <td>28</td>\n",
       "      <td>19</td>\n",
       "      <td>3916</td>\n",
       "      <td>40650</td>\n",
       "    </tr>\n",
       "    <tr>\n",
       "      <th>2</th>\n",
       "      <td>BMW</td>\n",
       "      <td>1 Series</td>\n",
       "      <td>2011</td>\n",
       "      <td>premium unleaded (required)</td>\n",
       "      <td>300.0</td>\n",
       "      <td>6.0</td>\n",
       "      <td>MANUAL</td>\n",
       "      <td>rear wheel drive</td>\n",
       "      <td>2.0</td>\n",
       "      <td>Luxury,High-Performance</td>\n",
       "      <td>Compact</td>\n",
       "      <td>Coupe</td>\n",
       "      <td>28</td>\n",
       "      <td>20</td>\n",
       "      <td>3916</td>\n",
       "      <td>36350</td>\n",
       "    </tr>\n",
       "    <tr>\n",
       "      <th>3</th>\n",
       "      <td>BMW</td>\n",
       "      <td>1 Series</td>\n",
       "      <td>2011</td>\n",
       "      <td>premium unleaded (required)</td>\n",
       "      <td>230.0</td>\n",
       "      <td>6.0</td>\n",
       "      <td>MANUAL</td>\n",
       "      <td>rear wheel drive</td>\n",
       "      <td>2.0</td>\n",
       "      <td>Luxury,Performance</td>\n",
       "      <td>Compact</td>\n",
       "      <td>Coupe</td>\n",
       "      <td>28</td>\n",
       "      <td>18</td>\n",
       "      <td>3916</td>\n",
       "      <td>29450</td>\n",
       "    </tr>\n",
       "    <tr>\n",
       "      <th>4</th>\n",
       "      <td>BMW</td>\n",
       "      <td>1 Series</td>\n",
       "      <td>2011</td>\n",
       "      <td>premium unleaded (required)</td>\n",
       "      <td>230.0</td>\n",
       "      <td>6.0</td>\n",
       "      <td>MANUAL</td>\n",
       "      <td>rear wheel drive</td>\n",
       "      <td>2.0</td>\n",
       "      <td>Luxury</td>\n",
       "      <td>Compact</td>\n",
       "      <td>Convertible</td>\n",
       "      <td>28</td>\n",
       "      <td>18</td>\n",
       "      <td>3916</td>\n",
       "      <td>34500</td>\n",
       "    </tr>\n",
       "  </tbody>\n",
       "</table>\n",
       "</div>"
      ],
      "text/plain": [
       "  Make       Model  Year             Engine Fuel Type  Engine HP  \\\n",
       "0  BMW  1 Series M  2011  premium unleaded (required)      335.0   \n",
       "1  BMW    1 Series  2011  premium unleaded (required)      300.0   \n",
       "2  BMW    1 Series  2011  premium unleaded (required)      300.0   \n",
       "3  BMW    1 Series  2011  premium unleaded (required)      230.0   \n",
       "4  BMW    1 Series  2011  premium unleaded (required)      230.0   \n",
       "\n",
       "   Engine Cylinders Transmission Type     Driven_Wheels  Number of Doors  \\\n",
       "0               6.0            MANUAL  rear wheel drive              2.0   \n",
       "1               6.0            MANUAL  rear wheel drive              2.0   \n",
       "2               6.0            MANUAL  rear wheel drive              2.0   \n",
       "3               6.0            MANUAL  rear wheel drive              2.0   \n",
       "4               6.0            MANUAL  rear wheel drive              2.0   \n",
       "\n",
       "                         Market Category Vehicle Size Vehicle Style  \\\n",
       "0  Factory Tuner,Luxury,High-Performance      Compact         Coupe   \n",
       "1                     Luxury,Performance      Compact   Convertible   \n",
       "2                Luxury,High-Performance      Compact         Coupe   \n",
       "3                     Luxury,Performance      Compact         Coupe   \n",
       "4                                 Luxury      Compact   Convertible   \n",
       "\n",
       "   highway MPG  city mpg  Popularity   MSRP  \n",
       "0           26        19        3916  46135  \n",
       "1           28        19        3916  40650  \n",
       "2           28        20        3916  36350  \n",
       "3           28        18        3916  29450  \n",
       "4           28        18        3916  34500  "
      ]
     },
     "execution_count": 59,
     "metadata": {},
     "output_type": "execute_result"
    }
   ],
   "source": [
    "df.head()"
   ]
  },
  {
   "cell_type": "code",
   "execution_count": 120,
   "id": "340e869e",
   "metadata": {
    "scrolled": true
   },
   "outputs": [
    {
     "data": {
      "text/html": [
       "<div>\n",
       "<style scoped>\n",
       "    .dataframe tbody tr th:only-of-type {\n",
       "        vertical-align: middle;\n",
       "    }\n",
       "\n",
       "    .dataframe tbody tr th {\n",
       "        vertical-align: top;\n",
       "    }\n",
       "\n",
       "    .dataframe thead th {\n",
       "        text-align: right;\n",
       "    }\n",
       "</style>\n",
       "<table border=\"1\" class=\"dataframe\">\n",
       "  <thead>\n",
       "    <tr style=\"text-align: right;\">\n",
       "      <th></th>\n",
       "      <th>Year</th>\n",
       "      <th>Engine HP</th>\n",
       "      <th>Engine Cylinders</th>\n",
       "      <th>Number of Doors</th>\n",
       "      <th>highway MPG</th>\n",
       "      <th>city mpg</th>\n",
       "      <th>Popularity</th>\n",
       "      <th>MSRP</th>\n",
       "    </tr>\n",
       "  </thead>\n",
       "  <tbody>\n",
       "    <tr>\n",
       "      <th>count</th>\n",
       "      <td>11914.00</td>\n",
       "      <td>11845.00</td>\n",
       "      <td>11884.00</td>\n",
       "      <td>11908.00</td>\n",
       "      <td>11914.00</td>\n",
       "      <td>11914.00</td>\n",
       "      <td>11914.00</td>\n",
       "      <td>11914.00</td>\n",
       "    </tr>\n",
       "    <tr>\n",
       "      <th>mean</th>\n",
       "      <td>2010.38</td>\n",
       "      <td>249.39</td>\n",
       "      <td>5.63</td>\n",
       "      <td>3.44</td>\n",
       "      <td>26.64</td>\n",
       "      <td>19.73</td>\n",
       "      <td>1554.91</td>\n",
       "      <td>40594.74</td>\n",
       "    </tr>\n",
       "    <tr>\n",
       "      <th>std</th>\n",
       "      <td>7.58</td>\n",
       "      <td>109.19</td>\n",
       "      <td>1.78</td>\n",
       "      <td>0.88</td>\n",
       "      <td>8.86</td>\n",
       "      <td>8.99</td>\n",
       "      <td>1441.86</td>\n",
       "      <td>60109.10</td>\n",
       "    </tr>\n",
       "    <tr>\n",
       "      <th>min</th>\n",
       "      <td>1990.00</td>\n",
       "      <td>55.00</td>\n",
       "      <td>0.00</td>\n",
       "      <td>2.00</td>\n",
       "      <td>12.00</td>\n",
       "      <td>7.00</td>\n",
       "      <td>2.00</td>\n",
       "      <td>2000.00</td>\n",
       "    </tr>\n",
       "    <tr>\n",
       "      <th>25%</th>\n",
       "      <td>2007.00</td>\n",
       "      <td>170.00</td>\n",
       "      <td>4.00</td>\n",
       "      <td>2.00</td>\n",
       "      <td>22.00</td>\n",
       "      <td>16.00</td>\n",
       "      <td>549.00</td>\n",
       "      <td>21000.00</td>\n",
       "    </tr>\n",
       "    <tr>\n",
       "      <th>50%</th>\n",
       "      <td>2015.00</td>\n",
       "      <td>227.00</td>\n",
       "      <td>6.00</td>\n",
       "      <td>4.00</td>\n",
       "      <td>26.00</td>\n",
       "      <td>18.00</td>\n",
       "      <td>1385.00</td>\n",
       "      <td>29995.00</td>\n",
       "    </tr>\n",
       "    <tr>\n",
       "      <th>75%</th>\n",
       "      <td>2016.00</td>\n",
       "      <td>300.00</td>\n",
       "      <td>6.00</td>\n",
       "      <td>4.00</td>\n",
       "      <td>30.00</td>\n",
       "      <td>22.00</td>\n",
       "      <td>2009.00</td>\n",
       "      <td>42231.25</td>\n",
       "    </tr>\n",
       "    <tr>\n",
       "      <th>max</th>\n",
       "      <td>2017.00</td>\n",
       "      <td>1001.00</td>\n",
       "      <td>16.00</td>\n",
       "      <td>4.00</td>\n",
       "      <td>354.00</td>\n",
       "      <td>137.00</td>\n",
       "      <td>5657.00</td>\n",
       "      <td>2065902.00</td>\n",
       "    </tr>\n",
       "  </tbody>\n",
       "</table>\n",
       "</div>"
      ],
      "text/plain": [
       "           Year  Engine HP  Engine Cylinders  Number of Doors  highway MPG  \\\n",
       "count  11914.00   11845.00          11884.00         11908.00     11914.00   \n",
       "mean    2010.38     249.39              5.63             3.44        26.64   \n",
       "std        7.58     109.19              1.78             0.88         8.86   \n",
       "min     1990.00      55.00              0.00             2.00        12.00   \n",
       "25%     2007.00     170.00              4.00             2.00        22.00   \n",
       "50%     2015.00     227.00              6.00             4.00        26.00   \n",
       "75%     2016.00     300.00              6.00             4.00        30.00   \n",
       "max     2017.00    1001.00             16.00             4.00       354.00   \n",
       "\n",
       "       city mpg  Popularity        MSRP  \n",
       "count  11914.00    11914.00    11914.00  \n",
       "mean      19.73     1554.91    40594.74  \n",
       "std        8.99     1441.86    60109.10  \n",
       "min        7.00        2.00     2000.00  \n",
       "25%       16.00      549.00    21000.00  \n",
       "50%       18.00     1385.00    29995.00  \n",
       "75%       22.00     2009.00    42231.25  \n",
       "max      137.00     5657.00  2065902.00  "
      ]
     },
     "execution_count": 120,
     "metadata": {},
     "output_type": "execute_result"
    }
   ],
   "source": [
    "df.describe().round(2)"
   ]
  },
  {
   "cell_type": "code",
   "execution_count": 125,
   "id": "fb7648c4",
   "metadata": {},
   "outputs": [
    {
     "data": {
      "text/plain": [
       "Make                   48\n",
       "Model                 915\n",
       "Year                   28\n",
       "Engine Fuel Type       10\n",
       "Engine HP             356\n",
       "Engine Cylinders        9\n",
       "Transmission Type       5\n",
       "Driven_Wheels           4\n",
       "Number of Doors         3\n",
       "Market Category        71\n",
       "Vehicle Size            3\n",
       "Vehicle Style          16\n",
       "highway MPG            59\n",
       "city mpg               69\n",
       "Popularity             48\n",
       "MSRP                 6049\n",
       "dtype: int64"
      ]
     },
     "execution_count": 125,
     "metadata": {},
     "output_type": "execute_result"
    }
   ],
   "source": [
    "df.nunique()"
   ]
  },
  {
   "cell_type": "markdown",
   "id": "1db28d0b",
   "metadata": {},
   "source": [
    "# Question 2 - Number of Records"
   ]
  },
  {
   "cell_type": "code",
   "execution_count": 4,
   "id": "5942c776",
   "metadata": {
    "scrolled": true
   },
   "outputs": [
    {
     "data": {
      "text/plain": [
       "11914"
      ]
     },
     "execution_count": 4,
     "metadata": {},
     "output_type": "execute_result"
    }
   ],
   "source": [
    "len(df)"
   ]
  },
  {
   "cell_type": "markdown",
   "id": "5d26f02c",
   "metadata": {},
   "source": [
    "# Question 3 - Most popular Car Brands"
   ]
  },
  {
   "cell_type": "code",
   "execution_count": 72,
   "id": "d24e1a4b",
   "metadata": {
    "scrolled": true
   },
   "outputs": [
    {
     "data": {
      "text/plain": [
       "Chevrolet     1123\n",
       "Ford           881\n",
       "Volkswagen     809\n",
       "Name: Make, dtype: int64"
      ]
     },
     "execution_count": 72,
     "metadata": {},
     "output_type": "execute_result"
    }
   ],
   "source": [
    "df['Make'].value_counts().head(3)"
   ]
  },
  {
   "cell_type": "markdown",
   "id": "366e9b7a",
   "metadata": {},
   "source": [
    "# Question 4 - Number of unique Audi Models"
   ]
  },
  {
   "cell_type": "code",
   "execution_count": 203,
   "id": "0c1efea9",
   "metadata": {},
   "outputs": [
    {
     "data": {
      "text/plain": [
       "Make                   1\n",
       "Model                 34\n",
       "Year                  20\n",
       "Engine Fuel Type       5\n",
       "Engine HP             40\n",
       "Engine Cylinders       6\n",
       "Transmission Type      3\n",
       "Driven_Wheels          2\n",
       "Number of Doors        2\n",
       "Market Category       15\n",
       "Vehicle Size           3\n",
       "Vehicle Style          6\n",
       "highway MPG           23\n",
       "city mpg              18\n",
       "Popularity             1\n",
       "MSRP                 234\n",
       "dtype: int64"
      ]
     },
     "execution_count": 203,
     "metadata": {},
     "output_type": "execute_result"
    }
   ],
   "source": [
    "df[df['Make'] == 'Audi'].nunique()"
   ]
  },
  {
   "cell_type": "code",
   "execution_count": 6,
   "id": "629eb735",
   "metadata": {},
   "outputs": [],
   "source": [
    "audi = df.loc[df['Make'] == 'Audi']"
   ]
  },
  {
   "cell_type": "code",
   "execution_count": 7,
   "id": "567dd6e6",
   "metadata": {},
   "outputs": [
    {
     "data": {
      "text/plain": [
       "34"
      ]
     },
     "execution_count": 7,
     "metadata": {},
     "output_type": "execute_result"
    }
   ],
   "source": [
    "audi['Model'].nunique()"
   ]
  },
  {
   "cell_type": "markdown",
   "id": "309e484e",
   "metadata": {},
   "source": [
    "# Question 5 - Columns with missing values"
   ]
  },
  {
   "cell_type": "code",
   "execution_count": 18,
   "id": "dac79ea9",
   "metadata": {
    "scrolled": true
   },
   "outputs": [
    {
     "name": "stdout",
     "output_type": "stream",
     "text": [
      "5 variables have missing values.\n"
     ]
    }
   ],
   "source": [
    "na = df.isna().sum()\n",
    "print(len(na[na > 0]), \"variables have missing values.\")"
   ]
  },
  {
   "cell_type": "markdown",
   "id": "a65f4b06",
   "metadata": {},
   "source": [
    "# Question 6 - Median und Modus"
   ]
  },
  {
   "cell_type": "code",
   "execution_count": 27,
   "id": "306ef154",
   "metadata": {
    "scrolled": true
   },
   "outputs": [
    {
     "name": "stdout",
     "output_type": "stream",
     "text": [
      "Median: 6.0\n"
     ]
    }
   ],
   "source": [
    "print(\"Median:\", np.nanmedian(df['Engine Cylinders']))"
   ]
  },
  {
   "cell_type": "code",
   "execution_count": 58,
   "id": "a6995639",
   "metadata": {},
   "outputs": [
    {
     "name": "stdout",
     "output_type": "stream",
     "text": [
      "0    4.0\n",
      "Name: Engine Cylinders, dtype: float64\n"
     ]
    }
   ],
   "source": [
    "most_frequent = df['Engine Cylinders'].mode()\n",
    "print(most_frequent)"
   ]
  },
  {
   "cell_type": "code",
   "execution_count": 55,
   "id": "4bad0120",
   "metadata": {},
   "outputs": [],
   "source": [
    "new_df = df['Engine Cylinders'].fillna(df['Engine Cylinders'].median())"
   ]
  },
  {
   "cell_type": "code",
   "execution_count": 56,
   "id": "df85e16b",
   "metadata": {},
   "outputs": [
    {
     "name": "stdout",
     "output_type": "stream",
     "text": [
      "Median: 6.0\n"
     ]
    }
   ],
   "source": [
    "print(\"Median:\", np.median(new_df))"
   ]
  },
  {
   "cell_type": "markdown",
   "id": "e428d995",
   "metadata": {},
   "source": [
    "# Question 7 - Value W"
   ]
  },
  {
   "cell_type": "code",
   "execution_count": 112,
   "id": "24680c08",
   "metadata": {},
   "outputs": [],
   "source": [
    "Lotus = df.loc[df['Make'] == 'Lotus']"
   ]
  },
  {
   "cell_type": "code",
   "execution_count": 113,
   "id": "62d8b9dc",
   "metadata": {},
   "outputs": [],
   "source": [
    "df_Lotus = df[df['Make'] == 'Lotus']"
   ]
  },
  {
   "cell_type": "code",
   "execution_count": 114,
   "id": "5fa7d345",
   "metadata": {},
   "outputs": [],
   "source": [
    "df_Lotus = df_Lotus[[\"Engine HP\", \"Engine Cylinders\"]]"
   ]
  },
  {
   "cell_type": "code",
   "execution_count": 115,
   "id": "c8431174",
   "metadata": {
    "scrolled": true
   },
   "outputs": [
    {
     "data": {
      "text/html": [
       "<div>\n",
       "<style scoped>\n",
       "    .dataframe tbody tr th:only-of-type {\n",
       "        vertical-align: middle;\n",
       "    }\n",
       "\n",
       "    .dataframe tbody tr th {\n",
       "        vertical-align: top;\n",
       "    }\n",
       "\n",
       "    .dataframe thead th {\n",
       "        text-align: right;\n",
       "    }\n",
       "</style>\n",
       "<table border=\"1\" class=\"dataframe\">\n",
       "  <thead>\n",
       "    <tr style=\"text-align: right;\">\n",
       "      <th></th>\n",
       "      <th>Engine HP</th>\n",
       "      <th>Engine Cylinders</th>\n",
       "    </tr>\n",
       "  </thead>\n",
       "  <tbody>\n",
       "    <tr>\n",
       "      <th>3912</th>\n",
       "      <td>189.0</td>\n",
       "      <td>4.0</td>\n",
       "    </tr>\n",
       "    <tr>\n",
       "      <th>3913</th>\n",
       "      <td>218.0</td>\n",
       "      <td>4.0</td>\n",
       "    </tr>\n",
       "    <tr>\n",
       "      <th>3914</th>\n",
       "      <td>189.0</td>\n",
       "      <td>4.0</td>\n",
       "    </tr>\n",
       "    <tr>\n",
       "      <th>3915</th>\n",
       "      <td>189.0</td>\n",
       "      <td>4.0</td>\n",
       "    </tr>\n",
       "    <tr>\n",
       "      <th>3916</th>\n",
       "      <td>218.0</td>\n",
       "      <td>4.0</td>\n",
       "    </tr>\n",
       "  </tbody>\n",
       "</table>\n",
       "</div>"
      ],
      "text/plain": [
       "      Engine HP  Engine Cylinders\n",
       "3912      189.0               4.0\n",
       "3913      218.0               4.0\n",
       "3914      189.0               4.0\n",
       "3915      189.0               4.0\n",
       "3916      218.0               4.0"
      ]
     },
     "execution_count": 115,
     "metadata": {},
     "output_type": "execute_result"
    }
   ],
   "source": [
    "df_Lotus.head()"
   ]
  },
  {
   "cell_type": "code",
   "execution_count": 116,
   "id": "3ed76f89",
   "metadata": {},
   "outputs": [
    {
     "data": {
      "text/plain": [
       "Engine HP           9\n",
       "Engine Cylinders    9\n",
       "dtype: int64"
      ]
     },
     "execution_count": 116,
     "metadata": {},
     "output_type": "execute_result"
    }
   ],
   "source": [
    "df_Lotus.drop_duplicates().count()"
   ]
  },
  {
   "cell_type": "code",
   "execution_count": 191,
   "id": "b545afd4",
   "metadata": {},
   "outputs": [],
   "source": [
    "df_Lotus = df_Lotus.drop_duplicates()"
   ]
  },
  {
   "cell_type": "code",
   "execution_count": 192,
   "id": "0cd4ca63",
   "metadata": {},
   "outputs": [],
   "source": [
    "X = df_Lotus.values"
   ]
  },
  {
   "cell_type": "code",
   "execution_count": 194,
   "id": "d7bf0a35",
   "metadata": {
    "scrolled": false
   },
   "outputs": [],
   "source": [
    "XTX = X.T.dot(X)"
   ]
  },
  {
   "cell_type": "code",
   "execution_count": 196,
   "id": "da65419f",
   "metadata": {},
   "outputs": [
    {
     "data": {
      "text/plain": [
       "0.15475735843457794"
      ]
     },
     "execution_count": 196,
     "metadata": {},
     "output_type": "execute_result"
    }
   ],
   "source": [
    "XTX_inv = np.linalg.inv(XTX)\n",
    "XTX_inv.sum()"
   ]
  },
  {
   "cell_type": "code",
   "execution_count": 199,
   "id": "d36853bc",
   "metadata": {},
   "outputs": [],
   "source": [
    "y = np.array([1100, 800, 750, 850, 1300, 1000, 1000, 1300, 800])"
   ]
  },
  {
   "cell_type": "code",
   "execution_count": 200,
   "id": "4da375f9",
   "metadata": {},
   "outputs": [],
   "source": [
    "w = XTX_inv.dot(X.T).dot(y)"
   ]
  },
  {
   "cell_type": "code",
   "execution_count": 206,
   "id": "f37e3b7b",
   "metadata": {},
   "outputs": [
    {
     "name": "stdout",
     "output_type": "stream",
     "text": [
      "W is: 4.594944810094576\n"
     ]
    }
   ],
   "source": [
    "print(\"W is:\", w[0])"
   ]
  }
 ],
 "metadata": {
  "kernelspec": {
   "display_name": "Python 3 (ipykernel)",
   "language": "python",
   "name": "python3"
  },
  "language_info": {
   "codemirror_mode": {
    "name": "ipython",
    "version": 3
   },
   "file_extension": ".py",
   "mimetype": "text/x-python",
   "name": "python",
   "nbconvert_exporter": "python",
   "pygments_lexer": "ipython3",
   "version": "3.9.13"
  }
 },
 "nbformat": 4,
 "nbformat_minor": 5
}
